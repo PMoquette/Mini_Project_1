{
 "cells": [
  {
   "cell_type": "markdown",
   "metadata": {},
   "source": [
    "# Pseudo-code Hangman:\n",
    "\n",
    "1) Create list of words\n",
    "\n",
    "2) Make it so the computer can randomly choose one word from the aforementioned list.\n",
    "\n",
    "3) create function that randomly chooses a word for the player to guess.\n",
    "\n",
    "4) Opening message for player (Welcome, name, let's play, etc.)\n",
    "   \n",
    "5) Create: function = check player input against computer's randomly chosen word\n",
    "\n",
    "6) Create: function = the game. Gets the word, prompts player to guess letter or whole word. Keeps track of turns.   \n",
    "    7a) player_guess = input from player (letter = string)\n",
    "    7b) Computer chooses a word from list\n",
    "    7c) set turn/guess counter \n",
    "    7d) show length of word chosen by computer: print(len(word))\n",
    "    7e) print statements (you win, wrong entry, etc) \n"
   ]
  },
  {
   "cell_type": "code",
   "execution_count": 1,
   "metadata": {},
   "outputs": [],
   "source": [
    "import random"
   ]
  },
  {
   "cell_type": "code",
   "execution_count": 2,
   "metadata": {},
   "outputs": [
    {
     "name": "stdout",
     "output_type": "stream",
     "text": [
      "['abruptly', 'absurd', 'abyss', 'affix', 'askew', 'avenue', 'awkward', 'axiom', 'azure', 'bagpipes', 'bandwagon', 'banjo', 'bayou', 'beekeeper', 'bikini', 'blitz', 'blizzard', 'boggle', 'bookworm', 'boxcar', 'boxful', 'buckaroo', 'buffalo', 'buffoon', 'buxom', 'buzzard', 'buzzing', 'buzzwords', 'caliph', 'cobweb', 'cockiness', 'croquet', 'crypt', 'curacao', 'cycle', 'daiquiri', 'dirndl', 'disavow', 'dizzying', 'duplex', 'dwarves', 'embezzle', 'equip', 'espionage', 'euouae', 'exodus', 'faking', 'fishhook', 'fixable', 'fjord', 'flapjack', 'flopping', 'fluffiness', 'flyby', 'foxglove', 'frazzled', 'frizzled', 'fuchsia', 'funny', 'gabby', 'galaxy', 'galvanize', 'gazebo', 'giaour', 'gizmo', 'glowworm', 'glyph', 'gnarly', 'gnostic', 'gossip', 'grogginess', 'haiku', 'haphazard', 'hyphen', 'iatrogenic', 'icebox', 'injury', 'ivory', 'ivy', 'jackpot', 'jaundice', 'jawbreaker', 'jaywalk', 'jazziest', 'jazzy', 'jelly', 'jigsaw', 'jinx', 'jiujitsu', 'jockey', 'jogging', 'joking', 'jovial', 'joyful', 'juicy', 'jukebox', 'jumbo', 'kayak', 'kazoo', 'keyhole', 'khaki', 'kilobyte', 'kiosk', 'kitsch', 'kiwifruit', 'klutz', 'knapsack', 'larynx', 'lengths', 'lucky', 'luxury', 'lymph', 'marquis', 'matrix', 'megahertz', 'microwave', 'mnemonic', 'mystify', 'naphtha', 'nightclub', 'nowadays', 'numbskull', 'nymph', 'onyx', 'ovary', 'oxidize', 'oxygen', 'pajama', 'peekaboo', 'phlegm', 'pixel', 'pizazz', 'pneumonia', 'polka', 'pshaw', 'psyche', 'puppy', 'puzzling', 'quartz', 'queue', 'quips', 'quixotic', 'quiz', 'quizzes', 'quorum', 'razzmatazz', 'rhubarb', 'rhythm', 'rickshaw', 'schnapps', 'scratch', 'shiv', 'snazzy', 'sphinx', 'spritz', 'squawk', 'staff', 'strength', 'strengths', 'stretch', 'stronghold', 'stymied', 'subway', 'swivel', 'syndrome', 'thriftless', 'thumbscrew', 'topaz', 'transcript', 'transgress', 'transplant', 'triphthong', 'twelfth', 'twelfths', 'unknown', 'unworthy', 'unzip', 'uptown', 'vaporize', 'vixen', 'vodka', 'voodoo', 'vortex', 'voyeurism', 'walkway', 'waltz', 'wave', 'wavy', 'waxy', 'wellspring', 'wheezy', 'whiskey', 'whizzing', 'whomever', 'wimpy', 'witchcraft', 'wizard', 'woozy', 'wristwatch', 'wyvern', 'xylophone', 'yachtsman', 'yippee', 'yoked', 'youthful', 'yummy', 'zephyr', 'zigzag', 'zigzagging', 'zilch', 'zipper', 'zodiac', 'zombie']\n"
     ]
    }
   ],
   "source": [
    "string_words = 'abruptly,absurd,abyss,affix,askew,avenue,awkward,axiom,azure,bagpipes,bandwagon,banjo,bayou,beekeeper,bikini,blitz,blizzard,boggle,bookworm,boxcar,boxful,buckaroo,buffalo,buffoon,buxom,buzzard,buzzing,buzzwords,caliph,cobweb,cockiness,croquet,crypt,curacao,cycle,daiquiri,dirndl,disavow,dizzying,duplex,dwarves,embezzle,equip,espionage,euouae,exodus,faking,fishhook,fixable,fjord,flapjack,flopping,fluffiness,flyby,foxglove,frazzled,frizzled,fuchsia,funny,gabby,galaxy,galvanize,gazebo,giaour,gizmo,glowworm,glyph,gnarly,gnostic,gossip,grogginess,haiku,haphazard,hyphen,iatrogenic,icebox,injury,ivory,ivy,jackpot,jaundice,jawbreaker,jaywalk,jazziest,jazzy,jelly,jigsaw,jinx,jiujitsu,jockey,jogging,joking,jovial,joyful,juicy,jukebox,jumbo,kayak,kazoo,keyhole,khaki,kilobyte,kiosk,kitsch,kiwifruit,klutz,knapsack,larynx,lengths,lucky,luxury,lymph,marquis,matrix,megahertz,microwave,mnemonic,mystify,naphtha,nightclub,nowadays,numbskull,nymph,onyx,ovary,oxidize,oxygen,pajama,peekaboo,phlegm,pixel,pizazz,pneumonia,polka,pshaw,psyche,puppy,puzzling,quartz,queue,quips,quixotic,quiz,quizzes,quorum,razzmatazz,rhubarb,rhythm,rickshaw,schnapps,scratch,shiv,snazzy,sphinx,spritz,squawk,staff,strength,strengths,stretch,stronghold,stymied,subway,swivel,syndrome,thriftless,thumbscrew,topaz,transcript,transgress,transplant,triphthong,twelfth,twelfths,unknown,unworthy,unzip,uptown,vaporize,vixen,vodka,voodoo,vortex,voyeurism,walkway,waltz,wave,wavy,waxy,wellspring,wheezy,whiskey,whizzing,whomever,wimpy,witchcraft,wizard,woozy,wristwatch,wyvern,xylophone,yachtsman,yippee,yoked,youthful,yummy,zephyr,zigzag,zigzagging,zilch,zipper,zodiac,zombie'\n",
    "words = string_words.split(',')\n",
    "print(words)"
   ]
  },
  {
   "cell_type": "code",
   "execution_count": 3,
   "metadata": {},
   "outputs": [],
   "source": [
    "def random_word():\n",
    "    words = ['abruptly', 'absurd', 'abyss', 'affix', 'askew', 'avenue', 'awkward', 'axiom', 'azure', 'bagpipes', 'bandwagon', 'banjo', 'bayou', 'beekeeper', 'bikini', 'blitz', 'blizzard', 'boggle', 'bookworm', 'boxcar', 'boxful', 'buckaroo', 'buffalo', 'buffoon', 'buxom', 'buzzard', 'buzzing', 'buzzwords', 'caliph', 'cobweb', 'cockiness', 'croquet', 'crypt', 'curacao', 'cycle', 'daiquiri', 'dirndl', 'disavow', 'dizzying', 'duplex', 'dwarves', 'embezzle', 'equip', 'espionage', 'euouae', 'exodus', 'faking', 'fishhook', 'fixable', 'fjord', 'flapjack', 'flopping', 'fluffiness', 'flyby', 'foxglove', 'frazzled', 'frizzled', 'fuchsia', 'funny', 'gabby', 'galaxy', 'galvanize', 'gazebo', 'giaour', 'gizmo', 'glowworm', 'glyph', 'gnarly', 'gnostic', 'gossip', 'grogginess', 'haiku', 'haphazard', 'hyphen', 'iatrogenic', 'icebox', 'injury', 'ivory', 'ivy', 'jackpot', 'jaundice', 'jawbreaker', 'jaywalk', 'jazziest', 'jazzy', 'jelly', 'jigsaw', 'jinx', 'jiujitsu', 'jockey', 'jogging', 'joking', 'jovial', 'joyful', 'juicy', 'jukebox', 'jumbo', 'kayak', 'kazoo', 'keyhole', 'khaki', 'kilobyte', 'kiosk', 'kitsch', 'kiwifruit', 'klutz', 'knapsack', 'larynx', 'lengths', 'lucky', 'luxury', 'lymph', 'marquis', 'matrix', 'megahertz', 'microwave', 'mnemonic', 'mystify', 'naphtha', 'nightclub', 'nowadays', 'numbskull', 'nymph', 'onyx', 'ovary', 'oxidize', 'oxygen', 'pajama', 'peekaboo', 'phlegm', 'pixel', 'pizazz', 'pneumonia', 'polka', 'pshaw', 'psyche', 'puppy', 'puzzling', 'quartz', 'queue', 'quips', 'quixotic', 'quiz', 'quizzes', 'quorum', 'razzmatazz', 'rhubarb', 'rhythm', 'rickshaw', 'schnapps', 'scratch', 'shiv', 'snazzy', 'sphinx', 'spritz', 'squawk', 'staff', 'strength', 'strengths', 'stretch', 'stronghold', 'stymied', 'subway', 'swivel', 'syndrome', 'thriftless', 'thumbscrew', 'topaz', 'transcript', 'transgress', 'transplant', 'triphthong', 'twelfth', 'twelfths', 'unknown', 'unworthy', 'unzip', 'uptown', 'vaporize', 'vixen', 'vodka', 'voodoo', 'vortex', 'voyeurism', 'walkway', 'waltz', 'wave', 'wavy', 'waxy', 'wellspring', 'wheezy', 'whiskey', 'whizzing', 'whomever', 'wimpy', 'witchcraft', 'wizard', 'woozy', 'wristwatch', 'wyvern', 'xylophone', 'yachtsman', 'yippee', 'yoked', 'youthful', 'yummy', 'zephyr', 'zigzag', 'zigzagging', 'zilch', 'zipper', 'zodiac', 'zombie']\n",
    "    return random.choice(words).upper()"
   ]
  },
  {
   "cell_type": "code",
   "execution_count": 4,
   "metadata": {},
   "outputs": [],
   "source": [
    "def check(word,guesses,guess):\n",
    "    status = ''\n",
    "    matches = 0\n",
    "    for letter in word:\n",
    "        if letter in guesses:\n",
    "            status += letter\n",
    "        else:\n",
    "            status += '_'\n",
    "\n",
    "        if letter == guess:\n",
    "            matches += 1\n",
    "\n",
    "    if matches > 1:\n",
    "        print(\"You guessed right! The word contains\",matches,\"''\" + guess + \"''\" + \"s\")\n",
    "    elif matches == 1:\n",
    "        print(\"You guessed right! The word contains the letter \" + \"'\" + guess + \"'\")\n",
    "    else:\n",
    "        print(\"Sorry, that letter is not in our word.\")\n",
    "\n",
    "    return status"
   ]
  },
  {
   "cell_type": "code",
   "execution_count": null,
   "metadata": {},
   "outputs": [],
   "source": []
  },
  {
   "cell_type": "code",
   "execution_count": 5,
   "metadata": {},
   "outputs": [],
   "source": [
    "def game():\n",
    "    word = random_word()\n",
    "    turn = 10\n",
    "    guesses = []\n",
    "    guessed = False\n",
    "    print(\"The word contains\",len(word), \"letters.\")\n",
    "    \n",
    "    while not guessed and turn >0: \n",
    "        guess = input(\"Please enter one letter or a {}-letter word: \".format(len(word)))\n",
    "        guess = guess.upper()\n",
    "        turn -=1\n",
    "        print(\"You have %d turn(s) left.\" % turn)\n",
    "        if not guess.isalpha():\n",
    "            turn +=1\n",
    "            print(\"That is not a valid response. Please try again.\")\n",
    "        if not len(guess) == 1:\n",
    "            turn +=1\n",
    "            print(\"Please choose no more than one letter.\")\n",
    "        elif guess in guesses:\n",
    "            print(\"You already guessed: \" + guess + \"''\")\n",
    "        elif len(guess) == len(word):\n",
    "            guesses.append(guess)\n",
    "            if guess == word:\n",
    "                guessed = True\n",
    "                print(\"Yes, the word is\", word + \". You win!\") \n",
    "            else:\n",
    "                print(\"Sorry, you guessed wrong. Game over.\")\n",
    "                break\n",
    "        elif len(guess) == 1:\n",
    "            guesses.append(guess)\n",
    "            result = check(word,guesses,guess)\n",
    "            if result == word:\n",
    "                guessed = True\n",
    "                print(\"Yes, the word is\", word + \". You win!\")\n",
    "            else:\n",
    "                print(result)                                                             "
   ]
  },
  {
   "cell_type": "code",
   "execution_count": 6,
   "metadata": {},
   "outputs": [
    {
     "name": "stdout",
     "output_type": "stream",
     "text": [
      "First things first: whats your name? lily\n",
      "Hello, lily. Let's play hangman!\n"
     ]
    }
   ],
   "source": [
    "name = input(\"First things first: whats your name? \") \n",
    "\n",
    "print(\"Hello, \" + name +\".\",\"Let's play hangman!\")"
   ]
  },
  {
   "cell_type": "code",
   "execution_count": 7,
   "metadata": {
    "scrolled": true
   },
   "outputs": [
    {
     "name": "stdout",
     "output_type": "stream",
     "text": [
      "The word contains 6 letters.\n",
      "Please enter one letter or a 6-letter word: 6\n",
      "You have 9 turn(s) left.\n",
      "That is not a valid response. Please try again.\n",
      "Sorry, that letter is not in our word.\n",
      "______\n",
      "Please enter one letter or a 6-letter word: 7\n",
      "You have 9 turn(s) left.\n",
      "That is not a valid response. Please try again.\n",
      "Sorry, that letter is not in our word.\n",
      "______\n",
      "Please enter one letter or a 6-letter word: aa\n",
      "You have 9 turn(s) left.\n",
      "Please choose no more than one letter.\n",
      "Please enter one letter or a 6-letter word: a\n",
      "You have 9 turn(s) left.\n",
      "Sorry, that letter is not in our word.\n",
      "______\n",
      "Please enter one letter or a 6-letter word: e\n",
      "You have 8 turn(s) left.\n",
      "Sorry, that letter is not in our word.\n",
      "______\n",
      "Please enter one letter or a 6-letter word: i\n",
      "You have 7 turn(s) left.\n",
      "You guessed right! The word contains the letter 'I'\n",
      "____I_\n",
      "Please enter one letter or a 6-letter word: o\n",
      "You have 6 turn(s) left.\n",
      "You guessed right! The word contains the letter 'O'\n",
      "_O__I_\n",
      "Please enter one letter or a 6-letter word: u\n",
      "You have 5 turn(s) left.\n",
      "Sorry, that letter is not in our word.\n",
      "_O__I_\n",
      "Please enter one letter or a 6-letter word: y\n",
      "You have 4 turn(s) left.\n",
      "Sorry, that letter is not in our word.\n",
      "_O__I_\n",
      "Please enter one letter or a 6-letter word: n\n",
      "You have 3 turn(s) left.\n",
      "Sorry, that letter is not in our word.\n",
      "_O__I_\n",
      "Please enter one letter or a 6-letter word: q\n",
      "You have 2 turn(s) left.\n",
      "Sorry, that letter is not in our word.\n",
      "_O__I_\n",
      "Please enter one letter or a 6-letter word: p\n",
      "You have 1 turn(s) left.\n",
      "You guessed right! The word contains the letter 'P'\n",
      "_O__IP\n",
      "Please enter one letter or a 6-letter word: n\n",
      "You have 0 turn(s) left.\n",
      "You already guessed: N''\n"
     ]
    }
   ],
   "source": [
    "game()"
   ]
  },
  {
   "cell_type": "code",
   "execution_count": null,
   "metadata": {},
   "outputs": [],
   "source": []
  }
 ],
 "metadata": {
  "kernelspec": {
   "display_name": "Python 3",
   "language": "python",
   "name": "python3"
  },
  "language_info": {
   "codemirror_mode": {
    "name": "ipython",
    "version": 3
   },
   "file_extension": ".py",
   "mimetype": "text/x-python",
   "name": "python",
   "nbconvert_exporter": "python",
   "pygments_lexer": "ipython3",
   "version": "3.7.4"
  }
 },
 "nbformat": 4,
 "nbformat_minor": 2
}
